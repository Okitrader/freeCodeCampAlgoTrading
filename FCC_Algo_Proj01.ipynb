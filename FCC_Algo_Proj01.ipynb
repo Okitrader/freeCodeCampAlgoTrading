{
  "nbformat": 4,
  "nbformat_minor": 0,
  "metadata": {
    "colab": {
      "provenance": [],
      "authorship_tag": "ABX9TyOi4e0kAWzN8HU30s7vP5+r",
      "include_colab_link": true
    },
    "kernelspec": {
      "name": "python3",
      "display_name": "Python 3"
    },
    "language_info": {
      "name": "python"
    }
  },
  "cells": [
    {
      "cell_type": "markdown",
      "metadata": {
        "id": "view-in-github",
        "colab_type": "text"
      },
      "source": [
        "<a href=\"https://colab.research.google.com/github/Okitrader/freeCodeCampAlgoTrading/blob/main/FCC_Algo_Proj01.ipynb\" target=\"_parent\"><img src=\"https://colab.research.google.com/assets/colab-badge.svg\" alt=\"Open In Colab\"/></a>"
      ]
    },
    {
      "cell_type": "markdown",
      "source": [
        "All Packages Needed:\n",
        "pandas, numpy, matplotlib, statsmodels, pandas_datareader, datetime, yfinance, sklearn, PyPortfolioOpt"
      ],
      "metadata": {
        "id": "yzE7SVN9l2WB"
      }
    },
    {
      "cell_type": "code",
      "source": [
        "!pip install pandas warnings pandas_ta numpy matplotlib statsmodels pandas-datareader datetime yfinance scikit-learn PyPortfolioOpt\n"
      ],
      "metadata": {
        "colab": {
          "base_uri": "https://localhost:8080/"
        },
        "id": "Hm54DduKmDFs",
        "outputId": "e2a8b63a-7943-43a8-e812-ad83cf539492"
      },
      "execution_count": 1,
      "outputs": [
        {
          "output_type": "stream",
          "name": "stdout",
          "text": [
            "Requirement already satisfied: pandas in /usr/local/lib/python3.10/dist-packages (1.5.3)\n",
            "\u001b[31mERROR: Could not find a version that satisfies the requirement warnings (from versions: none)\u001b[0m\u001b[31m\n",
            "\u001b[0m\u001b[31mERROR: No matching distribution found for warnings\u001b[0m\u001b[31m\n",
            "\u001b[0m"
          ]
        }
      ]
    },
    {
      "cell_type": "code",
      "source": [
        "!pip install pandas_ta requests tqdm"
      ],
      "metadata": {
        "colab": {
          "base_uri": "https://localhost:8080/"
        },
        "id": "I9GiNC513nKW",
        "outputId": "911cc5ad-04c7-476e-f387-b9741da0a731"
      },
      "execution_count": 2,
      "outputs": [
        {
          "output_type": "stream",
          "name": "stdout",
          "text": [
            "Collecting pandas_ta\n",
            "  Downloading pandas_ta-0.3.14b.tar.gz (115 kB)\n",
            "\u001b[?25l     \u001b[90m━━━━━━━━━━━━━━━━━━━━━━━━━━━━━━━━━━━━━━━━\u001b[0m \u001b[32m0.0/115.1 kB\u001b[0m \u001b[31m?\u001b[0m eta \u001b[36m-:--:--\u001b[0m\r\u001b[2K     \u001b[90m━━━━━━━━━━━━━━━━━━━━━━━━━━━━━━━━━━━━━━━━\u001b[0m \u001b[32m115.1/115.1 kB\u001b[0m \u001b[31m3.4 MB/s\u001b[0m eta \u001b[36m0:00:00\u001b[0m\n",
            "\u001b[?25h  Preparing metadata (setup.py) ... \u001b[?25l\u001b[?25hdone\n",
            "Requirement already satisfied: requests in /usr/local/lib/python3.10/dist-packages (2.31.0)\n",
            "Requirement already satisfied: tqdm in /usr/local/lib/python3.10/dist-packages (4.66.1)\n",
            "Requirement already satisfied: pandas in /usr/local/lib/python3.10/dist-packages (from pandas_ta) (1.5.3)\n",
            "Requirement already satisfied: charset-normalizer<4,>=2 in /usr/local/lib/python3.10/dist-packages (from requests) (3.3.2)\n",
            "Requirement already satisfied: idna<4,>=2.5 in /usr/local/lib/python3.10/dist-packages (from requests) (3.4)\n",
            "Requirement already satisfied: urllib3<3,>=1.21.1 in /usr/local/lib/python3.10/dist-packages (from requests) (2.0.7)\n",
            "Requirement already satisfied: certifi>=2017.4.17 in /usr/local/lib/python3.10/dist-packages (from requests) (2023.7.22)\n",
            "Requirement already satisfied: python-dateutil>=2.8.1 in /usr/local/lib/python3.10/dist-packages (from pandas->pandas_ta) (2.8.2)\n",
            "Requirement already satisfied: pytz>=2020.1 in /usr/local/lib/python3.10/dist-packages (from pandas->pandas_ta) (2023.3.post1)\n",
            "Requirement already satisfied: numpy>=1.21.0 in /usr/local/lib/python3.10/dist-packages (from pandas->pandas_ta) (1.23.5)\n",
            "Requirement already satisfied: six>=1.5 in /usr/local/lib/python3.10/dist-packages (from python-dateutil>=2.8.1->pandas->pandas_ta) (1.16.0)\n",
            "Building wheels for collected packages: pandas_ta\n",
            "  Building wheel for pandas_ta (setup.py) ... \u001b[?25l\u001b[?25hdone\n",
            "  Created wheel for pandas_ta: filename=pandas_ta-0.3.14b0-py3-none-any.whl size=218907 sha256=a0f32349446d1cb19492fb0108f16ea26c288b345b415b79595a4ab6effd483a\n",
            "  Stored in directory: /root/.cache/pip/wheels/69/00/ac/f7fa862c34b0e2ef320175100c233377b4c558944f12474cf0\n",
            "Successfully built pandas_ta\n",
            "Installing collected packages: pandas_ta\n",
            "Successfully installed pandas_ta-0.3.14b0\n"
          ]
        }
      ]
    },
    {
      "cell_type": "code",
      "source": [
        "from statsmodels.regression.rolling import RollingOLS\n",
        "import pandas_datareader.data as web\n",
        "import matplotlib.pyplot as plt\n",
        "import statsmodels.api as sm\n",
        "import pandas as pd\n",
        "import numpy as np\n",
        "import datetime as dt\n",
        "import pandas_ta\n",
        "import warnings\n",
        "warnings.filterwarnings('ignore')\n"
      ],
      "metadata": {
        "id": "NUPPw91um0Jc"
      },
      "execution_count": 3,
      "outputs": []
    },
    {
      "cell_type": "markdown",
      "source": [
        "## Create a list of top Cryptos Ranked by Coinmarket Cap."
      ],
      "metadata": {
        "id": "e8L3WSMFOQIr"
      }
    },
    {
      "cell_type": "code",
      "source": [
        "# Import necessary libraries\n",
        "import requests\n",
        "import pandas as pd\n",
        "from google.colab import userdata\n",
        "\n",
        "# Retrieve API key from Colab user data\n",
        "api_key = userdata.get('CMCKey')\n",
        "\n",
        "if api_key is None:\n",
        "    print(\"API key not found. Please check that the secret name is correct and that the notebook has access to it.\")\n",
        "else:\n",
        "    print(\"API key retrieved successfully.\")\n",
        "\n",
        "# Set the limit for the number of cryptocurrencies to retrieve\n",
        "TOP_CRYPTO_LIMIT = 125  # Change this number to fetch a different number of top cryptocurrencies\n",
        "\n",
        "# CoinMarketCap API URL and parameters\n",
        "url = 'https://pro-api.coinmarketcap.com/v1/cryptocurrency/listings/latest'\n",
        "parameters = {\n",
        "    'start': '1',\n",
        "    'limit': str(TOP_CRYPTO_LIMIT),  # Convert the limit to a string to use in the parameters\n",
        "    'convert': 'USD'\n",
        "}\n",
        "headers = {\n",
        "    'Accepts': 'application/json',\n",
        "    'X-CMC_PRO_API_KEY': api_key,\n",
        "}\n",
        "\n",
        "# Make the API request\n",
        "try:\n",
        "    response = requests.get(url, headers=headers, params=parameters)\n",
        "    response.raise_for_status()  # Will raise an HTTPError if the HTTP request returned an unsuccessful status code\n",
        "    data = response.json()\n",
        "\n",
        "    # Parse the data to extract 'cmc_rank' and 'symbol'\n",
        "    cryptos = [{'cmc_rank': entry['cmc_rank'], 'symbol': entry['symbol']} for entry in data['data']]\n",
        "\n",
        "    # Create DataFrame and name it top_cryptos (renamed to reflect the variable limit)\n",
        "    top_cryptos = pd.DataFrame(cryptos)\n",
        "\n",
        "    # Verify that the ranks are within the top limit set\n",
        "    if top_cryptos['cmc_rank'].max() <= TOP_CRYPTO_LIMIT and top_cryptos['cmc_rank'].min() >= 1:\n",
        "        print(f\"Successfully retrieved top {TOP_CRYPTO_LIMIT} cryptocurrencies by cmc_rank.\")\n",
        "    else:\n",
        "        print(f\"Some cryptocurrencies may not be in the top {TOP_CRYPTO_LIMIT} by cmc_rank.\")\n",
        "\n",
        "    # Display the DataFrame\n",
        "    print(top_cryptos.head())\n",
        "    print(top_cryptos.tail())\n",
        "except requests.exceptions.HTTPError as errh:\n",
        "    print(\"Http Error:\", errh)\n",
        "except requests.exceptions.ConnectionError as errc:\n",
        "    print(\"Error Connecting:\", errc)\n",
        "except requests.exceptions.Timeout as errt:\n",
        "    print(\"Timeout Error:\", errt)\n",
        "except requests.exceptions.RequestException as err:\n",
        "    print(\"Oops: Something Else\", err)"
      ],
      "metadata": {
        "colab": {
          "base_uri": "https://localhost:8080/"
        },
        "id": "hKqaYXJOJfq_",
        "outputId": "ae12b885-7871-40da-db4c-7a85b4a3901c"
      },
      "execution_count": 5,
      "outputs": [
        {
          "output_type": "stream",
          "name": "stdout",
          "text": [
            "API key retrieved successfully.\n",
            "Successfully retrieved top 125 cryptocurrencies by cmc_rank.\n",
            "   cmc_rank symbol\n",
            "0         1    BTC\n",
            "1         2    ETH\n",
            "2         3   USDT\n",
            "3         4    BNB\n",
            "4         5    XRP\n",
            "     cmc_rank symbol\n",
            "120       121    CVX\n",
            "121       122    SFP\n",
            "122       123  TFUEL\n",
            "123       124    HNT\n",
            "124       125    JST\n"
          ]
        }
      ]
    },
    {
      "cell_type": "code",
      "source": [],
      "metadata": {
        "id": "C_kjyjz9PBXq"
      },
      "execution_count": null,
      "outputs": []
    }
  ]
}